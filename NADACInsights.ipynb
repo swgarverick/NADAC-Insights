{
 "cells": [
  {
   "cell_type": "markdown",
   "metadata": {},
   "source": [
    "# NADAC Insights"
   ]
  },
  {
   "cell_type": "code",
   "execution_count": 1,
   "metadata": {},
   "outputs": [],
   "source": [
    "# Importing libraries\n",
    "import pandas as pd\n",
    "import numpy as np"
   ]
  },
  {
   "cell_type": "markdown",
   "metadata": {},
   "source": [
    "## Importing the Data"
   ]
  },
  {
   "cell_type": "code",
   "execution_count": 32,
   "metadata": {},
   "outputs": [
    {
     "data": {
      "text/html": [
       "<div>\n",
       "<style scoped>\n",
       "    .dataframe tbody tr th:only-of-type {\n",
       "        vertical-align: middle;\n",
       "    }\n",
       "\n",
       "    .dataframe tbody tr th {\n",
       "        vertical-align: top;\n",
       "    }\n",
       "\n",
       "    .dataframe thead th {\n",
       "        text-align: right;\n",
       "    }\n",
       "</style>\n",
       "<table border=\"1\" class=\"dataframe\">\n",
       "  <thead>\n",
       "    <tr style=\"text-align: right;\">\n",
       "      <th></th>\n",
       "      <th>ndc_description</th>\n",
       "      <th>ndc</th>\n",
       "      <th>nadac_per_unit</th>\n",
       "      <th>effective_date</th>\n",
       "      <th>pricing_unit</th>\n",
       "      <th>pharmacy_type_indicator</th>\n",
       "      <th>otc</th>\n",
       "      <th>explanation_code</th>\n",
       "      <th>classification_for_rate_setting</th>\n",
       "      <th>as_of_date</th>\n",
       "      <th>corresponding_generic_drug_nadac_per_unit</th>\n",
       "      <th>corresponding_generic_drug_effective_date</th>\n",
       "    </tr>\n",
       "  </thead>\n",
       "  <tbody>\n",
       "    <tr>\n",
       "      <th>0</th>\n",
       "      <td>12-HR DECONGEST 120 MG CAPLET</td>\n",
       "      <td>113005452</td>\n",
       "      <td>0.30601</td>\n",
       "      <td>2021-03-17T00:00:00.000</td>\n",
       "      <td>EA</td>\n",
       "      <td>C/I</td>\n",
       "      <td>Y</td>\n",
       "      <td>1</td>\n",
       "      <td>G</td>\n",
       "      <td>2021-04-14T00:00:00.000</td>\n",
       "      <td>NaN</td>\n",
       "      <td>NaN</td>\n",
       "    </tr>\n",
       "    <tr>\n",
       "      <th>1</th>\n",
       "      <td>12-HR DECONGEST 120 MG CAPLET</td>\n",
       "      <td>36800005452</td>\n",
       "      <td>0.30601</td>\n",
       "      <td>2021-03-17T00:00:00.000</td>\n",
       "      <td>EA</td>\n",
       "      <td>C/I</td>\n",
       "      <td>Y</td>\n",
       "      <td>1</td>\n",
       "      <td>G</td>\n",
       "      <td>2021-04-14T00:00:00.000</td>\n",
       "      <td>NaN</td>\n",
       "      <td>NaN</td>\n",
       "    </tr>\n",
       "    <tr>\n",
       "      <th>2</th>\n",
       "      <td>12-HR DECONGEST 120 MG CAPLET</td>\n",
       "      <td>36800005460</td>\n",
       "      <td>0.30601</td>\n",
       "      <td>2021-03-17T00:00:00.000</td>\n",
       "      <td>EA</td>\n",
       "      <td>C/I</td>\n",
       "      <td>Y</td>\n",
       "      <td>1</td>\n",
       "      <td>G</td>\n",
       "      <td>2021-04-14T00:00:00.000</td>\n",
       "      <td>NaN</td>\n",
       "      <td>NaN</td>\n",
       "    </tr>\n",
       "    <tr>\n",
       "      <th>3</th>\n",
       "      <td>12HR NASAL DECONGEST ER 120 MG</td>\n",
       "      <td>24385005452</td>\n",
       "      <td>0.30601</td>\n",
       "      <td>2021-03-17T00:00:00.000</td>\n",
       "      <td>EA</td>\n",
       "      <td>C/I</td>\n",
       "      <td>Y</td>\n",
       "      <td>1</td>\n",
       "      <td>G</td>\n",
       "      <td>2021-04-14T00:00:00.000</td>\n",
       "      <td>NaN</td>\n",
       "      <td>NaN</td>\n",
       "    </tr>\n",
       "    <tr>\n",
       "      <th>4</th>\n",
       "      <td>12HR NASAL DECONGEST ER 120 MG</td>\n",
       "      <td>70000047501</td>\n",
       "      <td>0.30601</td>\n",
       "      <td>2021-03-17T00:00:00.000</td>\n",
       "      <td>EA</td>\n",
       "      <td>C/I</td>\n",
       "      <td>Y</td>\n",
       "      <td>1</td>\n",
       "      <td>G</td>\n",
       "      <td>2021-04-14T00:00:00.000</td>\n",
       "      <td>NaN</td>\n",
       "      <td>NaN</td>\n",
       "    </tr>\n",
       "  </tbody>\n",
       "</table>\n",
       "</div>"
      ],
      "text/plain": [
       "                  ndc_description          ndc  nadac_per_unit  \\\n",
       "0   12-HR DECONGEST 120 MG CAPLET    113005452         0.30601   \n",
       "1   12-HR DECONGEST 120 MG CAPLET  36800005452         0.30601   \n",
       "2   12-HR DECONGEST 120 MG CAPLET  36800005460         0.30601   \n",
       "3  12HR NASAL DECONGEST ER 120 MG  24385005452         0.30601   \n",
       "4  12HR NASAL DECONGEST ER 120 MG  70000047501         0.30601   \n",
       "\n",
       "            effective_date pricing_unit pharmacy_type_indicator otc  \\\n",
       "0  2021-03-17T00:00:00.000           EA                     C/I   Y   \n",
       "1  2021-03-17T00:00:00.000           EA                     C/I   Y   \n",
       "2  2021-03-17T00:00:00.000           EA                     C/I   Y   \n",
       "3  2021-03-17T00:00:00.000           EA                     C/I   Y   \n",
       "4  2021-03-17T00:00:00.000           EA                     C/I   Y   \n",
       "\n",
       "  explanation_code classification_for_rate_setting               as_of_date  \\\n",
       "0                1                               G  2021-04-14T00:00:00.000   \n",
       "1                1                               G  2021-04-14T00:00:00.000   \n",
       "2                1                               G  2021-04-14T00:00:00.000   \n",
       "3                1                               G  2021-04-14T00:00:00.000   \n",
       "4                1                               G  2021-04-14T00:00:00.000   \n",
       "\n",
       "   corresponding_generic_drug_nadac_per_unit  \\\n",
       "0                                        NaN   \n",
       "1                                        NaN   \n",
       "2                                        NaN   \n",
       "3                                        NaN   \n",
       "4                                        NaN   \n",
       "\n",
       "  corresponding_generic_drug_effective_date  \n",
       "0                                       NaN  \n",
       "1                                       NaN  \n",
       "2                                       NaN  \n",
       "3                                       NaN  \n",
       "4                                       NaN  "
      ]
     },
     "execution_count": 32,
     "metadata": {},
     "output_type": "execute_result"
    }
   ],
   "source": [
    "# Using the API to access the JSON and then converting it to a pandas dataframe\n",
    "df = pd.read_json('https://data.medicaid.gov/resource/ckd4-m8y6.json')\n",
    "df.head()"
   ]
  },
  {
   "cell_type": "code",
   "execution_count": 33,
   "metadata": {},
   "outputs": [
    {
     "data": {
      "text/plain": [
       "ndc_description                              1000\n",
       "ndc                                          1000\n",
       "nadac_per_unit                               1000\n",
       "effective_date                               1000\n",
       "pricing_unit                                 1000\n",
       "pharmacy_type_indicator                      1000\n",
       "otc                                          1000\n",
       "explanation_code                             1000\n",
       "classification_for_rate_setting              1000\n",
       "as_of_date                                   1000\n",
       "corresponding_generic_drug_nadac_per_unit      29\n",
       "corresponding_generic_drug_effective_date      29\n",
       "dtype: int64"
      ]
     },
     "execution_count": 33,
     "metadata": {},
     "output_type": "execute_result"
    }
   ],
   "source": [
    "df.count()"
   ]
  },
  {
   "cell_type": "markdown",
   "metadata": {},
   "source": [
    "#### I realize that at least without signing up and getting an app token, I only have access to the first 1000 entries of the data set. "
   ]
  },
  {
   "cell_type": "code",
   "execution_count": 216,
   "metadata": {},
   "outputs": [],
   "source": [
    "# Loading in the dataset after downloading it as a CSV\n",
    "df = pd.read_csv('NADAC_as_of_2021-04-14.csv')"
   ]
  },
  {
   "cell_type": "code",
   "execution_count": 217,
   "metadata": {
    "scrolled": true
   },
   "outputs": [
    {
     "data": {
      "text/plain": [
       "NDC Description                              24947\n",
       "NDC                                          24947\n",
       "NADAC_Per_Unit                               24947\n",
       "Effective_Date                               24947\n",
       "Pricing_Unit                                 24947\n",
       "Pharmacy_Type_Indicator                      24947\n",
       "OTC                                          24947\n",
       "Explanation_Code                             24947\n",
       "Classification_for_Rate_Setting              24947\n",
       "Corresponding_Generic_Drug_NADAC_Per_Unit      713\n",
       "Corresponding_Generic_Drug_Effective_Date      713\n",
       "As of Date                                   24947\n",
       "dtype: int64"
      ]
     },
     "execution_count": 217,
     "metadata": {},
     "output_type": "execute_result"
    }
   ],
   "source": [
    "df.count()"
   ]
  },
  {
   "cell_type": "markdown",
   "metadata": {},
   "source": [
    "## Prepping the Data"
   ]
  },
  {
   "cell_type": "code",
   "execution_count": 218,
   "metadata": {},
   "outputs": [],
   "source": [
    "# Converting the two series containing dates to date time objects for convenience\n",
    "df['Effective_Date'] = pd.to_datetime(df['Effective_Date'])\n",
    "df['Corresponding_Generic_Drug_Effective_Date'] = pd.to_datetime(df['Corresponding_Generic_Drug_Effective_Date'])"
   ]
  },
  {
   "cell_type": "code",
   "execution_count": 219,
   "metadata": {},
   "outputs": [
    {
     "name": "stdout",
     "output_type": "stream",
     "text": [
      "['C/I']\n",
      "['04/14/2021']\n"
     ]
    }
   ],
   "source": [
    "# All entries have the same indicator (Data was collected from surveys of Chain/Independent pharmacies) and \"As of date\"\n",
    "print(df['Pharmacy_Type_Indicator'].unique())\n",
    "print(df['As of Date'].unique())"
   ]
  },
  {
   "cell_type": "code",
   "execution_count": 220,
   "metadata": {},
   "outputs": [],
   "source": [
    "df = df.drop(['Pharmacy_Type_Indicator', 'As of Date'], axis=1)"
   ]
  },
  {
   "cell_type": "code",
   "execution_count": 221,
   "metadata": {},
   "outputs": [],
   "source": [
    "# For the sake of simplicity, I'm going to exclude entries priced by ML or GM and only study entries priced by each. \n",
    "# Given more time, I would explore the entries with ML and GM and possible effects the pricing unit has on the quality \n",
    "# of the deal.\n",
    "df = df[df['Pricing_Unit'] == 'EA'].drop(['Pricing_Unit'], axis=1)"
   ]
  },
  {
   "cell_type": "code",
   "execution_count": 222,
   "metadata": {},
   "outputs": [],
   "source": [
    "df = df.sort_values(by = ['NADAC_Per_Unit'])\n",
    "# Creating a seperate df for entries with a corresponding generic drug\n",
    "drugsWithCorrGeneric = df.dropna()"
   ]
  },
  {
   "cell_type": "code",
   "execution_count": 223,
   "metadata": {},
   "outputs": [
    {
     "data": {
      "text/html": [
       "<div>\n",
       "<style scoped>\n",
       "    .dataframe tbody tr th:only-of-type {\n",
       "        vertical-align: middle;\n",
       "    }\n",
       "\n",
       "    .dataframe tbody tr th {\n",
       "        vertical-align: top;\n",
       "    }\n",
       "\n",
       "    .dataframe thead th {\n",
       "        text-align: right;\n",
       "    }\n",
       "</style>\n",
       "<table border=\"1\" class=\"dataframe\">\n",
       "  <thead>\n",
       "    <tr style=\"text-align: right;\">\n",
       "      <th></th>\n",
       "      <th>NDC Description</th>\n",
       "      <th>NDC</th>\n",
       "      <th>NADAC_Per_Unit</th>\n",
       "      <th>Effective_Date</th>\n",
       "      <th>OTC</th>\n",
       "      <th>Explanation_Code</th>\n",
       "      <th>Classification_for_Rate_Setting</th>\n",
       "      <th>Corresponding_Generic_Drug_NADAC_Per_Unit</th>\n",
       "      <th>Corresponding_Generic_Drug_Effective_Date</th>\n",
       "    </tr>\n",
       "  </thead>\n",
       "  <tbody>\n",
       "    <tr>\n",
       "      <th>19544</th>\n",
       "      <td>ASPIRIN 325 MG TABLET</td>\n",
       "      <td>904680940</td>\n",
       "      <td>0.00963</td>\n",
       "      <td>2021-03-17</td>\n",
       "      <td>Y</td>\n",
       "      <td>1</td>\n",
       "      <td>G</td>\n",
       "      <td>NaN</td>\n",
       "      <td>NaT</td>\n",
       "    </tr>\n",
       "    <tr>\n",
       "      <th>14448</th>\n",
       "      <td>ASPIRIN 325 MG TABLET</td>\n",
       "      <td>904674460</td>\n",
       "      <td>0.00963</td>\n",
       "      <td>2021-03-17</td>\n",
       "      <td>Y</td>\n",
       "      <td>1</td>\n",
       "      <td>G</td>\n",
       "      <td>NaN</td>\n",
       "      <td>NaT</td>\n",
       "    </tr>\n",
       "    <tr>\n",
       "      <th>9169</th>\n",
       "      <td>ASPIRIN 325 MG TABLET</td>\n",
       "      <td>536330510</td>\n",
       "      <td>0.00963</td>\n",
       "      <td>2021-03-17</td>\n",
       "      <td>Y</td>\n",
       "      <td>1</td>\n",
       "      <td>G</td>\n",
       "      <td>NaN</td>\n",
       "      <td>NaT</td>\n",
       "    </tr>\n",
       "    <tr>\n",
       "      <th>5883</th>\n",
       "      <td>ASPIRIN 325 MG TABLET</td>\n",
       "      <td>70000050701</td>\n",
       "      <td>0.00963</td>\n",
       "      <td>2021-03-17</td>\n",
       "      <td>Y</td>\n",
       "      <td>1</td>\n",
       "      <td>G</td>\n",
       "      <td>NaN</td>\n",
       "      <td>NaT</td>\n",
       "    </tr>\n",
       "    <tr>\n",
       "      <th>14410</th>\n",
       "      <td>ASPIRIN 325 MG TABLET</td>\n",
       "      <td>51645071601</td>\n",
       "      <td>0.00963</td>\n",
       "      <td>2021-03-17</td>\n",
       "      <td>Y</td>\n",
       "      <td>1</td>\n",
       "      <td>G</td>\n",
       "      <td>NaN</td>\n",
       "      <td>NaT</td>\n",
       "    </tr>\n",
       "    <tr>\n",
       "      <th>...</th>\n",
       "      <td>...</td>\n",
       "      <td>...</td>\n",
       "      <td>...</td>\n",
       "      <td>...</td>\n",
       "      <td>...</td>\n",
       "      <td>...</td>\n",
       "      <td>...</td>\n",
       "      <td>...</td>\n",
       "      <td>...</td>\n",
       "    </tr>\n",
       "    <tr>\n",
       "      <th>18488</th>\n",
       "      <td>LUPRON DEPOT 11.25 MG 3MO KIT</td>\n",
       "      <td>74366303</td>\n",
       "      <td>4284.62096</td>\n",
       "      <td>2021-01-01</td>\n",
       "      <td>N</td>\n",
       "      <td>4, 5</td>\n",
       "      <td>B</td>\n",
       "      <td>NaN</td>\n",
       "      <td>NaT</td>\n",
       "    </tr>\n",
       "    <tr>\n",
       "      <th>625</th>\n",
       "      <td>CIMZIA 2X200 MG/ML SYRINGE KIT</td>\n",
       "      <td>50474071079</td>\n",
       "      <td>4693.24960</td>\n",
       "      <td>2021-01-01</td>\n",
       "      <td>N</td>\n",
       "      <td>4, 5</td>\n",
       "      <td>B</td>\n",
       "      <td>NaN</td>\n",
       "      <td>NaT</td>\n",
       "    </tr>\n",
       "    <tr>\n",
       "      <th>20333</th>\n",
       "      <td>LUPRON DEPOT 22.5 MG 3MO KIT</td>\n",
       "      <td>74334603</td>\n",
       "      <td>5147.68265</td>\n",
       "      <td>2021-01-01</td>\n",
       "      <td>N</td>\n",
       "      <td>4, 5</td>\n",
       "      <td>B</td>\n",
       "      <td>NaN</td>\n",
       "      <td>NaT</td>\n",
       "    </tr>\n",
       "    <tr>\n",
       "      <th>12231</th>\n",
       "      <td>AVONEX PEN 30 MCG/0.5 ML KIT</td>\n",
       "      <td>59627033304</td>\n",
       "      <td>6995.38950</td>\n",
       "      <td>2021-01-01</td>\n",
       "      <td>N</td>\n",
       "      <td>4, 5</td>\n",
       "      <td>B</td>\n",
       "      <td>NaN</td>\n",
       "      <td>NaT</td>\n",
       "    </tr>\n",
       "    <tr>\n",
       "      <th>16133</th>\n",
       "      <td>AVONEX PREFILLED SYR 30 MCG KIT</td>\n",
       "      <td>59627022205</td>\n",
       "      <td>7025.40737</td>\n",
       "      <td>2021-01-01</td>\n",
       "      <td>N</td>\n",
       "      <td>4, 5</td>\n",
       "      <td>B</td>\n",
       "      <td>NaN</td>\n",
       "      <td>NaT</td>\n",
       "    </tr>\n",
       "  </tbody>\n",
       "</table>\n",
       "<p>20827 rows × 9 columns</p>\n",
       "</div>"
      ],
      "text/plain": [
       "                       NDC Description          NDC  NADAC_Per_Unit  \\\n",
       "19544            ASPIRIN 325 MG TABLET    904680940         0.00963   \n",
       "14448            ASPIRIN 325 MG TABLET    904674460         0.00963   \n",
       "9169             ASPIRIN 325 MG TABLET    536330510         0.00963   \n",
       "5883             ASPIRIN 325 MG TABLET  70000050701         0.00963   \n",
       "14410            ASPIRIN 325 MG TABLET  51645071601         0.00963   \n",
       "...                                ...          ...             ...   \n",
       "18488    LUPRON DEPOT 11.25 MG 3MO KIT     74366303      4284.62096   \n",
       "625     CIMZIA 2X200 MG/ML SYRINGE KIT  50474071079      4693.24960   \n",
       "20333     LUPRON DEPOT 22.5 MG 3MO KIT     74334603      5147.68265   \n",
       "12231     AVONEX PEN 30 MCG/0.5 ML KIT  59627033304      6995.38950   \n",
       "16133  AVONEX PREFILLED SYR 30 MCG KIT  59627022205      7025.40737   \n",
       "\n",
       "      Effective_Date OTC Explanation_Code Classification_for_Rate_Setting  \\\n",
       "19544     2021-03-17   Y                1                               G   \n",
       "14448     2021-03-17   Y                1                               G   \n",
       "9169      2021-03-17   Y                1                               G   \n",
       "5883      2021-03-17   Y                1                               G   \n",
       "14410     2021-03-17   Y                1                               G   \n",
       "...              ...  ..              ...                             ...   \n",
       "18488     2021-01-01   N             4, 5                               B   \n",
       "625       2021-01-01   N             4, 5                               B   \n",
       "20333     2021-01-01   N             4, 5                               B   \n",
       "12231     2021-01-01   N             4, 5                               B   \n",
       "16133     2021-01-01   N             4, 5                               B   \n",
       "\n",
       "       Corresponding_Generic_Drug_NADAC_Per_Unit  \\\n",
       "19544                                        NaN   \n",
       "14448                                        NaN   \n",
       "9169                                         NaN   \n",
       "5883                                         NaN   \n",
       "14410                                        NaN   \n",
       "...                                          ...   \n",
       "18488                                        NaN   \n",
       "625                                          NaN   \n",
       "20333                                        NaN   \n",
       "12231                                        NaN   \n",
       "16133                                        NaN   \n",
       "\n",
       "      Corresponding_Generic_Drug_Effective_Date  \n",
       "19544                                       NaT  \n",
       "14448                                       NaT  \n",
       "9169                                        NaT  \n",
       "5883                                        NaT  \n",
       "14410                                       NaT  \n",
       "...                                         ...  \n",
       "18488                                       NaT  \n",
       "625                                         NaT  \n",
       "20333                                       NaT  \n",
       "12231                                       NaT  \n",
       "16133                                       NaT  \n",
       "\n",
       "[20827 rows x 9 columns]"
      ]
     },
     "execution_count": 223,
     "metadata": {},
     "output_type": "execute_result"
    }
   ],
   "source": [
    "df"
   ]
  },
  {
   "cell_type": "markdown",
   "metadata": {},
   "source": [
    "## Analyzing the Data"
   ]
  },
  {
   "cell_type": "code",
   "execution_count": 125,
   "metadata": {},
   "outputs": [
    {
     "name": "stdout",
     "output_type": "stream",
     "text": [
      "OTC\n",
      "N    6.542563\n",
      "Y    0.349327\n",
      "Name: NADAC_Per_Unit, dtype: float64\n",
      "OTC\n",
      "N    19028\n",
      "Y     1799\n",
      "Name: NADAC_Per_Unit, dtype: int64\n"
     ]
    }
   ],
   "source": [
    "print(df.groupby('OTC')['NADAC_Per_Unit'].mean())\n",
    "print(df.groupby('OTC')['NADAC_Per_Unit'].count())"
   ]
  },
  {
   "cell_type": "markdown",
   "metadata": {},
   "source": [
    "#### Hypothesis: Over the counter drugs are cheaper per unit."
   ]
  },
  {
   "cell_type": "code",
   "execution_count": 225,
   "metadata": {},
   "outputs": [
    {
     "name": "stdout",
     "output_type": "stream",
     "text": [
      "Classification_for_Rate_Setting\n",
      "B         75.266626\n",
      "B-ANDA    12.962424\n",
      "G          1.138836\n",
      "Name: NADAC_Per_Unit, dtype: float64\n",
      "Classification_for_Rate_Setting\n",
      "B          1359\n",
      "B-ANDA       56\n",
      "G         19412\n",
      "Name: NADAC_Per_Unit, dtype: int64\n",
      "19.374043651050084\n",
      "4.904571373182552\n"
     ]
    }
   ],
   "source": [
    "print(df.groupby('Classification_for_Rate_Setting')['NADAC_Per_Unit'].mean())\n",
    "print(df.groupby('Classification_for_Rate_Setting')['NADAC_Per_Unit'].count())\n",
    "print(drugsWithCorrGeneric['NADAC_Per_Unit'].mean())\n",
    "print(drugsWithCorrGeneric['Corresponding_Generic_Drug_NADAC_Per_Unit'].mean())"
   ]
  },
  {
   "cell_type": "markdown",
   "metadata": {},
   "source": [
    "#### Hypothesis: Brand name and B_ANDA drugs are more expensive per unit than generic drugs. The average brand name drug is 75 dollars each while the average generic drug is a little over 1 dollar. Also, the average difference between price of brand name drugs with a corresponding generic drug and its corresponding generic drug is about 4X."
   ]
  },
  {
   "cell_type": "code",
   "execution_count": 230,
   "metadata": {},
   "outputs": [
    {
     "name": "stdout",
     "output_type": "stream",
     "text": [
      "0.9187595774957431\n",
      "18201\n",
      "53.42925405797102\n",
      "828\n",
      "55.34207885714286\n",
      "35\n",
      "35.29301300056723\n",
      "1763\n",
      "285.01898952830186\n",
      "212\n",
      "5.72390891957758\n",
      "1231\n"
     ]
    }
   ],
   "source": [
    "print(df[df['Explanation_Code'].str.contains('1')]['NADAC_Per_Unit'].mean())\n",
    "print(df[df['Explanation_Code'].str.contains('1')]['NADAC_Per_Unit'].count())\n",
    "print(df[df['Explanation_Code'].str.contains('2')]['NADAC_Per_Unit'].mean())\n",
    "print(df[df['Explanation_Code'].str.contains('2')]['NADAC_Per_Unit'].count())\n",
    "print(df[df['Explanation_Code'].str.contains('3')]['NADAC_Per_Unit'].mean())\n",
    "print(df[df['Explanation_Code'].str.contains('3')]['NADAC_Per_Unit'].count())\n",
    "print(df[df['Explanation_Code'].str.contains('4')]['NADAC_Per_Unit'].mean())\n",
    "print(df[df['Explanation_Code'].str.contains('4')]['NADAC_Per_Unit'].count())\n",
    "print(df[df['Explanation_Code'].str.contains('5')]['NADAC_Per_Unit'].mean())\n",
    "print(df[df['Explanation_Code'].str.contains('5')]['NADAC_Per_Unit'].count())\n",
    "print(df[df['Explanation_Code'].str.contains('6')]['NADAC_Per_Unit'].mean())\n",
    "print(df[df['Explanation_Code'].str.contains('6')]['NADAC_Per_Unit'].count())"
   ]
  },
  {
   "cell_type": "markdown",
   "metadata": {},
   "source": [
    "#### Hypothesis: There is a strong relationship between the average cost of a drug and the explanation codes. "
   ]
  },
  {
   "cell_type": "code",
   "execution_count": 224,
   "metadata": {},
   "outputs": [
    {
     "data": {
      "text/plain": [
       "-0.078830668873629"
      ]
     },
     "execution_count": 224,
     "metadata": {},
     "output_type": "execute_result"
    }
   ],
   "source": [
    "df['NADAC_Per_Unit'].corr(pd.to_numeric(df['Effective_Date']))"
   ]
  },
  {
   "cell_type": "markdown",
   "metadata": {},
   "source": [
    "#### There isn't evidence for change in average price per unit relative to the effective date over the last year"
   ]
  },
  {
   "cell_type": "markdown",
   "metadata": {},
   "source": [
    "## Answers to questions:"
   ]
  },
  {
   "cell_type": "markdown",
   "metadata": {},
   "source": [
    "Why did you think stat x was important?\n",
    "    * NADAC_Per_Unit was the most important in my opinion, as it relates to the price of a drug.\n",
    "    * OTC, Explanation_Code, and Classification_for_Rate_Setting all seemed to correlate to the NADAC_Per_Unit.\n",
    "    * I wish I could have done more with NDC, as it would offer some more information about the drug.\n",
    "    * NDC_Description is important because it allows you to save money by comparing interchangable drugs. If I was to continue with this project, this would be my next step.\n",
    "\n",
    "What do you wish the data had?  \n",
    "    * I wish the NDC was split up by dashes so I can tell the labeler from the product and package code. I might be able to find some insights by comparing segments of the NDC.\n",
    "    * I wish the data had information on how much a dosage is for each drug, and how many dosages are need daily so that I can create a better measurement for how expensive each drug actually is.\n",
    "\n",
    "What piece of information is the most important?  Why?\n",
    "    * The most important piece of information is the price of the drug. Without the price of the drug, it's hard to gain insights that may save money.\n",
    "\n",
    "How did you import the data?\n",
    "    * First, I tried accessing the API and converting the JSON to a pandas Dataframe. I found that without signing up and gaining an access key, I was only allowed limited API calls, and a portion of the Dataframe. Because of this, I decided to download the data in the form of a CSV then import it as a pandas Dataframe.\n",
    "\n",
    "Why go that route?  \n",
    "    * Without gaining a key, I couldn't get the entire data set through an API call. By reading the CSV into a pandas Dataframe, I'm able to easily manipulate, analyze, and even model the data if I need to in order to gain insights.\n",
    "\n",
    "Any downfalls you can think of?  \n",
    "    * Data is read into a Dataframe off my laptop so the project wouldn't be easily collaborated on.\n",
    "    * If the data set was large, I wouldn't want an extra copy of it in CSV form on my laptop.\n",
    "    * I have to have the entire set on my local machine, rather than querying part of the set at a time.\n",
    "    \n",
    "    \n",
    "What would you improve upon version 2?\n",
    "    * I would sign up for an access key so I could get the data directly through an API call.\n",
    "    * I would perform more statistical analysis to actually back up my hypotheses. \n",
    "    * I would check different versions of the same kind of drug. For example, I would check different forms and sizes of Aspirin and check which one is the cheapest. I'd look to see if I can find patterns beyond Aspirin. For example, maybe larger tablets of the same drug usually cost less per gram.\n",
    "    * I'd look deeper into NDC to see if I can find insights on different labelers, drug strengths, and packaging types.\n",
    "    * I'd learn more about pharmacutical prices so I can clean the data better. Some entries might be scewing results.\n",
    "    * I would find a better way to regulate the NADAC_Per_Unit column. Price per each isn't very useful since we don't know how much a unit of \"each\" is. GM and ML didn't make much sense to me ether though as different medicines require different dosages.\n",
    "\n",
    "How would you automate downloading / updating the data?\n",
    "    * To update the data, I would obtain a key so that I could access the entire data set and make unlimited api calls, then I would run the python script to read in the updated data to a dataframe from the API. I could go a step further and have the script run automatically at a given time. (By updating I'm assuming you mean updating the data on my end and not writing to a database)\n",
    "\n",
    "What other questions would you ask from this data set if you had more time to explore?\n",
    "    * I'd question how the NADAC_Per_Unit column relates to how good of a deal each entry is.\n",
    "    * I'd try to find correlation between qualities in the NDC_Description column and the price\n",
    "    * I'd try to find differences in prices between entries with similar NDC_Descriptions\n"
   ]
  }
 ],
 "metadata": {
  "kernelspec": {
   "display_name": "Python 3",
   "language": "python",
   "name": "python3"
  },
  "language_info": {
   "codemirror_mode": {
    "name": "ipython",
    "version": 3
   },
   "file_extension": ".py",
   "mimetype": "text/x-python",
   "name": "python",
   "nbconvert_exporter": "python",
   "pygments_lexer": "ipython3",
   "version": "3.8.3"
  }
 },
 "nbformat": 4,
 "nbformat_minor": 4
}
